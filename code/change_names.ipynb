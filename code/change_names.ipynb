{
 "cells": [
  {
   "cell_type": "code",
   "execution_count": 11,
   "id": "1b140281",
   "metadata": {},
   "outputs": [],
   "source": [
    "import os\n",
    "import numpy as np"
   ]
  },
  {
   "cell_type": "code",
   "execution_count": 16,
   "id": "a5299684",
   "metadata": {},
   "outputs": [],
   "source": [
    "# rootdir = '..\\\\data\\\\train_data\\\\'\n",
    "\n",
    "# for subdir, dirs, files in os.walk(rootdir):\n",
    "#     for filename in files:\n",
    "#         if filename.endswith('tos.npy'):\n",
    "#             os.rename(os.path.join(subdir, filename), os.path.join(subdir, filename.replace('tos.npy', 'sst.npy')))\n",
    "#         elif filename.endswith('zos.npy'):\n",
    "#             os.rename(os.path.join(subdir, filename), os.path.join(subdir, filename.replace('zos.npy', 'ssh.npy')))\n"
   ]
  },
  {
   "cell_type": "code",
   "execution_count": 17,
   "id": "c2221587",
   "metadata": {},
   "outputs": [],
   "source": [
    "# rootdir = '..\\\\data\\\\train_data\\\\'\n",
    "\n",
    "# for subdir, dirs, files in os.walk(rootdir):\n",
    "#     for filename in files:\n",
    "#         if filename.endswith('nino34.npy'):\n",
    "#             arr = np.squeeze(np.load(os.path.join(subdir, filename)))\n",
    "#             np.save(os.path.join(subdir, filename), arr)\n",
    "            "
   ]
  },
  {
   "cell_type": "code",
   "execution_count": 31,
   "id": "81e9cfcd",
   "metadata": {},
   "outputs": [],
   "source": [
    "def replace_nan(arr):\n",
    "    # Replace NaN values with the nearest non-NaN element\n",
    "    idx = np.arange(len(arr))\n",
    "    mask = np.isnan(arr)\n",
    "    arr[mask] = np.interp(idx[mask], idx[~mask], arr[~mask])\n",
    "\n",
    "    return arr\n"
   ]
  },
  {
   "cell_type": "code",
   "execution_count": 36,
   "id": "cf93d9a9",
   "metadata": {},
   "outputs": [],
   "source": [
    "# rootdir = '..\\\\data\\\\'\n",
    "\n",
    "# file_list = []\n",
    "# for subdir, dirs, files in os.walk(rootdir):\n",
    "#     for filename in files:\n",
    "#         if filename.endswith('nino34.npy'):\n",
    "#             nino34 = np.load(os.path.join(subdir, filename))\n",
    "#             nino34 = replace_nan(nino34)\n",
    "#             np.save(os.path.join(subdir, filename), nino34)\n",
    "\n"
   ]
  },
  {
   "cell_type": "code",
   "execution_count": 37,
   "id": "364bd323",
   "metadata": {},
   "outputs": [],
   "source": [
    "rootdir = '..\\\\data\\\\'\n",
    "\n",
    "file_list = []\n",
    "for subdir, dirs, files in os.walk(rootdir):\n",
    "    for filename in files:\n",
    "        if filename.endswith('ssh.npy'):\n",
    "            ssh = np.load(os.path.join(subdir, filename))\n",
    "            ssh[np.isnan(ssh)] = 0\n",
    "            np.save(os.path.join(subdir, filename), ssh)\n",
    "        elif filename.endswith('sst.npy'):\n",
    "            sst = np.load(os.path.join(subdir, filename))\n",
    "            sst[np.isnan(sst)] = 0\n",
    "            np.save(os.path.join(subdir, filename), sst)\n",
    "\n"
   ]
  },
  {
   "cell_type": "code",
   "execution_count": null,
   "id": "bb477dad",
   "metadata": {},
   "outputs": [],
   "source": []
  }
 ],
 "metadata": {
  "kernelspec": {
   "display_name": "Python 3 (ipykernel)",
   "language": "python",
   "name": "python3"
  },
  "language_info": {
   "codemirror_mode": {
    "name": "ipython",
    "version": 3
   },
   "file_extension": ".py",
   "mimetype": "text/x-python",
   "name": "python",
   "nbconvert_exporter": "python",
   "pygments_lexer": "ipython3",
   "version": "3.9.16"
  }
 },
 "nbformat": 4,
 "nbformat_minor": 5
}
